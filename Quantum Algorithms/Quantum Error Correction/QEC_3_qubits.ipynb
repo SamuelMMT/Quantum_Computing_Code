{
 "cells": [
  {
   "cell_type": "code",
   "execution_count": 1,
   "metadata": {},
   "outputs": [
    {
     "name": "stdout",
     "output_type": "stream",
     "text": [
      "installing cirq...\n",
      "installed cirq.\n"
     ]
    }
   ],
   "source": [
    "#imports\n",
    "import random\n",
    "import matplotlib.pyplot as plt\n",
    "import numpy as np\n",
    "\n",
    "def binary_labels(num_qubits):\n",
    "    return [bin(x)[2:].zfill(num_qubits) for x in range(2 ** num_qubits)]\n",
    "plt.rcParams.update({'font.size': 8})\n",
    "\n",
    "try:\n",
    "    import cirq\n",
    "except ImportError:\n",
    "    print(\"installing cirq...\")\n",
    "    !pip install cirq --quiet\n",
    "    import cirq\n",
    "    print(\"installed cirq.\")"
   ]
  },
  {
   "cell_type": "markdown",
   "metadata": {},
   "source": [
    "## 2. Phase Flip Code"
   ]
  },
  {
   "cell_type": "markdown",
   "metadata": {},
   "source": [
    "This section covers a 3-qubit phase flip error correcting code."
   ]
  },
  {
   "cell_type": "markdown",
   "metadata": {},
   "source": [
    "Initialize a circuit with 3 qubits and 1 classical bit.\n",
    "\n",
    "Entangle the state of  q0  with the other qubits.\n",
    "\n",
    "Put all qubits in equal superpositions to correct  |+⟩  and  |−⟩  states from switching instead of  |0⟩  and  |1⟩ ."
   ]
  },
  {
   "cell_type": "code",
   "execution_count": 2,
   "metadata": {},
   "outputs": [
    {
     "data": {
      "text/html": [
       "<pre style=\"overflow: auto; white-space: pre;\">           ┌──┐\n",
       "q0: ───@────@─────H───\n",
       "       │    │\n",
       "q1: ───X────┼H────────\n",
       "            │\n",
       "q2: ────────X─────H───\n",
       "           └──┘</pre>"
      ],
      "text/plain": [
       "           ┌──┐\n",
       "q0: ───@────@─────H───\n",
       "       │    │\n",
       "q1: ───X────┼H────────\n",
       "            │\n",
       "q2: ────────X─────H───\n",
       "           └──┘"
      ]
     },
     "execution_count": 2,
     "metadata": {},
     "output_type": "execute_result"
    }
   ],
   "source": [
    "qubits = cirq.NamedQubit.range( 3, prefix = \"q\")\n",
    "encode_circuit = cirq.Circuit()\n",
    "encode_circuit.append(cirq.CNOT(qubits[0],qubits[1]))\n",
    "encode_circuit.append(cirq.CNOT(qubits[0],qubits[2]))\n",
    "encode_circuit.append(cirq.H.on_each(qubits))\n",
    "encode_circuit"
   ]
  },
  {
   "cell_type": "markdown",
   "metadata": {},
   "source": [
    "Simulate a phase flip error on q0 - flips a qubit from |+⟩ to  |−⟩"
   ]
  },
  {
   "cell_type": "code",
   "execution_count": 3,
   "metadata": {},
   "outputs": [
    {
     "data": {
      "text/html": [
       "<pre style=\"overflow: auto; white-space: pre;\">q0: ───Z───</pre>"
      ],
      "text/plain": [
       "q0: ───Z───"
      ]
     },
     "execution_count": 3,
     "metadata": {},
     "output_type": "execute_result"
    }
   ],
   "source": [
    "noisy_channel_circuit = cirq.Circuit()\n",
    "\n",
    "noisy_channel_circuit.append(cirq.Z(qubits[0]))\n",
    "noisy_channel_circuit"
   ]
  },
  {
   "cell_type": "markdown",
   "metadata": {},
   "source": [
    "Error Detection: Next, we will detect if there's been an error by checking the phase (do the phases agree with each other or are they diffent?) of  q0  with the other qubits by bringing all the qubits out of superposition (H gates) and then checking the parity of the  q0  with the ancilla qubits by applying two CNOTs controlled by  q0  and targeting the ancilla qubits."
   ]
  },
  {
   "cell_type": "code",
   "execution_count": 4,
   "metadata": {},
   "outputs": [
    {
     "data": {
      "text/html": [
       "<pre style=\"overflow: auto; white-space: pre;\">q0: ───H───@───@───\n",
       "           │   │\n",
       "q1: ───H───X───┼───\n",
       "               │\n",
       "q2: ───H───────X───</pre>"
      ],
      "text/plain": [
       "q0: ───H───@───@───\n",
       "           │   │\n",
       "q1: ───H───X───┼───\n",
       "               │\n",
       "q2: ───H───────X───"
      ]
     },
     "execution_count": 4,
     "metadata": {},
     "output_type": "execute_result"
    }
   ],
   "source": [
    "detection_circuit = cirq.Circuit()\n",
    "\n",
    "detection_circuit.append(cirq.H.on_each(qubits))\n",
    "detection_circuit.append(cirq.CNOT(qubits[0], qubits[1]))\n",
    "detection_circuit.append(cirq.CNOT(qubits[0], qubits[2]))\n",
    "detection_circuit"
   ]
  },
  {
   "cell_type": "markdown",
   "metadata": {},
   "source": [
    "Error Correction:\n",
    "\n",
    "We will now create a circuit to update  q0  if both  q1  and  q2  have detected a bit flip so that  q0  stores the correct logical state. Specifically, apply the Toffoli (CCX) gate controlled by  q2  and  q1 , targeting  q0 ."
   ]
  },
  {
   "cell_type": "code",
   "execution_count": 5,
   "metadata": {},
   "outputs": [
    {
     "data": {
      "text/html": [
       "<pre style=\"overflow: auto; white-space: pre;\">q0: ───X───\n",
       "       │\n",
       "q1: ───@───\n",
       "       │\n",
       "q2: ───@───</pre>"
      ],
      "text/plain": [
       "q0: ───X───\n",
       "       │\n",
       "q1: ───@───\n",
       "       │\n",
       "q2: ───@───"
      ]
     },
     "execution_count": 5,
     "metadata": {},
     "output_type": "execute_result"
    }
   ],
   "source": [
    "correction_circuit = cirq.Circuit()\n",
    "\n",
    "correction_circuit.append(cirq.CCNOT(qubits[2], qubits[1],qubits[0]))\n",
    "correction_circuit"
   ]
  },
  {
   "cell_type": "markdown",
   "metadata": {},
   "source": [
    "Decoding: Lastly, the logical state has been stored in  q0 , so we will create a decoding circuit to measure this qubit in order to decode the final logical state."
   ]
  },
  {
   "cell_type": "code",
   "execution_count": 6,
   "metadata": {},
   "outputs": [
    {
     "data": {
      "text/html": [
       "<pre style=\"overflow: auto; white-space: pre;\">q0: ───M───</pre>"
      ],
      "text/plain": [
       "q0: ───M───"
      ]
     },
     "execution_count": 6,
     "metadata": {},
     "output_type": "execute_result"
    }
   ],
   "source": [
    "decode_circuit = cirq.Circuit()\n",
    "\n",
    "decode_circuit.append(cirq.measure(qubits[0]))\n",
    "\n",
    "decode_circuit"
   ]
  },
  {
   "cell_type": "code",
   "execution_count": 7,
   "metadata": {},
   "outputs": [
    {
     "data": {
      "image/png": "[encoded data removed]",
      "text/plain": [
       "<Figure size 640x480 with 1 Axes>"
      ]
     },
     "metadata": {},
     "output_type": "display_data"
    }
   ],
   "source": [
    "phaseflip_circuit = encode_circuit + noisy_channel_circuit + detection_circuit + correction_circuit + decode_circuit\n",
    "phaseflip_circuit\n",
    "sim = cirq.Simulator()\n",
    "\n",
    "result = sim.run(phaseflip_circuit, repetitions = 100)\n",
    "\n",
    "\n",
    "hist = cirq.plot_state_histogram(result, plt.subplot(), title = 'Qubit States', xlabel = 'States', ylabel = 'Occurrences', tick_label=binary_labels(1))\n",
    "\n",
    "plt.show()"
   ]
  },
  {
   "cell_type": "code",
   "execution_count": 8,
   "metadata": {},
   "outputs": [
    {
     "name": "stdout",
     "output_type": "stream",
     "text": [
      "           ┌──┐\n",
      "q0: ───@────@─────H───Z───H───@───@───X───M───\n",
      "       │    │                 │   │   │\n",
      "q1: ───X────┼H────────────H───X───┼───@───────\n",
      "            │                     │   │\n",
      "q2: ────────X─────H───────H───────X───@───────\n",
      "           └──┘\n"
     ]
    }
   ],
   "source": [
    "print(phaseflip_circuit)"
   ]
  },
  {
   "cell_type": "markdown",
   "metadata": {},
   "source": [
    "If we decide to put our logical qubit in the |+> state, instead of the |0> state, we can see an interesting problem occur."
   ]
  },
  {
   "cell_type": "code",
   "execution_count": 9,
   "metadata": {},
   "outputs": [
    {
     "data": {
      "image/png": "[encoded data removed]",
      "text/plain": [
       "<Figure size 640x480 with 1 Axes>"
      ]
     },
     "metadata": {},
     "output_type": "display_data"
    }
   ],
   "source": [
    "# PREPARATION\n",
    "prepare_circuit = cirq.Circuit()\n",
    "prepare_circuit.append(cirq.H(qubits[0]))\n",
    "\n",
    "# SIMULATING\n",
    "phaseflip_circuit = prepare_circuit + encode_circuit + noisy_channel_circuit + detection_circuit + correction_circuit + decode_circuit\n",
    "\n",
    "sim = cirq.Simulator()\n",
    "result = sim.run(phaseflip_circuit, repetitions = 100)\n",
    "\n",
    "hist = cirq.plot_state_histogram(result, plt.subplot(), title = 'Qubit States', xlabel = 'States', ylabel = 'Occurrences', tick_label=binary_labels(1))\n",
    "\n",
    "plt.show()"
   ]
  },
  {
   "cell_type": "markdown",
   "metadata": {},
   "source": [
    "It is hard to tell if this is |+⟩ or if an error incurred and it is now  |−⟩  or even a different superposition."
   ]
  },
  {
   "cell_type": "markdown",
   "metadata": {},
   "source": [
    "To make sure the error has been corrected for this case, we can apply an H-Gate to q0 right before encoding to rotate it's state into the computational basis, so that we can be sure if the error has been corrected."
   ]
  },
  {
   "cell_type": "code",
   "execution_count": 10,
   "metadata": {},
   "outputs": [
    {
     "data": {
      "image/png": "[encoded data removed]",
      "text/plain": [
       "<Figure size 640x480 with 1 Axes>"
      ]
     },
     "metadata": {},
     "output_type": "display_data"
    }
   ],
   "source": [
    "# PREPARATION\n",
    "prepare_circuit = cirq.Circuit()\n",
    "prepare_circuit.append(cirq.H(qubits[0]))\n",
    "\n",
    "\n",
    "# SIMULATING\n",
    "phaseflip_circuit = prepare_circuit + encode_circuit + noisy_channel_circuit + detection_circuit + correction_circuit + cirq.H(qubits[0]) + decode_circuit\n",
    "\n",
    "sim = cirq.Simulator()\n",
    "result = sim.run(phaseflip_circuit, repetitions = 100)\n",
    "\n",
    "hist = cirq.plot_state_histogram(result, plt.subplot(), title = 'Qubit States', xlabel = 'States', ylabel = 'Occurrences', tick_label=binary_labels(1))\n",
    "\n",
    "plt.show()"
   ]
  },
  {
   "cell_type": "markdown",
   "metadata": {},
   "source": [
    "To Do: Expand this 3 qubit error correcting code to a 4+ qubit error correcting code. Can these sustain more errors than the one above? Are there patterns to how many errors an n qubit code can handle?"
   ]
  }
 ],
 "metadata": {
  "kernelspec": {
   "display_name": "qcsim_venv",
   "language": "python",
   "name": "python3"
  },
  "language_info": {
   "codemirror_mode": {
    "name": "ipython",
    "version": 3
   },
   "file_extension": ".py",
   "mimetype": "text/x-python",
   "name": "python",
   "nbconvert_exporter": "python",
   "pygments_lexer": "ipython3",
   "version": "3.12.1"
  }
 },
 "nbformat": 4,
 "nbformat_minor": 2
}
